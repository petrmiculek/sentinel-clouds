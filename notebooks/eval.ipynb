{
 "cells": [
  {
   "cell_type": "code",
   "execution_count": 1,
   "metadata": {},
   "outputs": [
    {
     "name": "stdout",
     "output_type": "stream",
     "text": [
      "/home/petrmiculek/Code/kaggle/sentinel_clouds/notebooks\n",
      "/usr/lib/python310.zip\n",
      "/usr/lib/python3.10\n",
      "/usr/lib/python3.10/lib-dynload\n",
      "\n",
      "/home/petrmiculek/.local/share/virtualenvs/kaggle-DjzpaDb6/lib/python3.10/site-packages\n",
      "/home/petrmiculek/Code/kaggle/sentinel_clouds\n"
     ]
    }
   ],
   "source": [
    "%load_ext autoreload\n",
    "%autoreload 2\n",
    "import sys\n",
    "# remove last element from path\n",
    "import os\n",
    "from os.path import abspath, join, exists\n",
    "sys.path.pop()  # preexisting imports path messing up imports\n",
    "sys.path.append(abspath(join('..')))  # ,'src'\n",
    "print(\"\\n\".join(sys.path))"
   ]
  },
  {
   "cell_type": "code",
   "execution_count": 9,
   "metadata": {},
   "outputs": [],
   "source": [
    "# standard library\n",
    "from copy import deepcopy\n",
    "from types import SimpleNamespace\n",
    "# external\n",
    "import numpy as np\n",
    "import torch\n",
    "from torch.nn import MSELoss, BCELoss, BCEWithLogitsLoss\n",
    "from torch.nn.functional import sigmoid\n",
    "from tqdm.notebook import tqdm\n",
    "from torchinfo import summary\n",
    "# local\n",
    "from src.data.dataset import CloudDataset, get_loaders\n",
    "from src.models.unet import UNet\n",
    "from src.models.util import evaluate, compute_metrics"
   ]
  },
  {
   "cell_type": "code",
   "execution_count": 5,
   "metadata": {},
   "outputs": [],
   "source": [
    "path_data = '/mnt/sdb1/code/sentinel2/sample'\n",
    "dataset_kwargs = {'tile_size': 224, 'crop_pad_mask': 'crop'}\n",
    "loader_kwargs = {'batch_size': 1, 'num_workers': 0, 'pin_memory': True, 'shuffle': False}\n",
    "loader = get_loaders(path_data, **dataset_kwargs, **loader_kwargs)"
   ]
  },
  {
   "cell_type": "code",
   "execution_count": 20,
   "metadata": {},
   "outputs": [
    {
     "name": "stdout",
     "output_type": "stream",
     "text": [
      "==========================================================================================\n",
      "Layer (type:depth-idx)                   Output Shape              Param #\n",
      "==========================================================================================\n",
      "UNet                                     [1, 1, 224, 224]          --\n",
      "├─ModuleList: 1-9                        --                        (recursive)\n",
      "│    └─DoubleConvBatchNorm: 2-1          [1, 32, 224, 224]         --\n",
      "│    │    └─Sequential: 3-1              [1, 32, 224, 224]         10,496\n",
      "├─MaxPool2d: 1-2                         [1, 32, 112, 112]         --\n",
      "├─ModuleList: 1-9                        --                        (recursive)\n",
      "│    └─DoubleConvBatchNorm: 2-2          [1, 64, 112, 112]         --\n",
      "│    │    └─Sequential: 3-2              [1, 64, 112, 112]         55,552\n",
      "├─MaxPool2d: 1-4                         [1, 64, 56, 56]           --\n",
      "├─ModuleList: 1-9                        --                        (recursive)\n",
      "│    └─DoubleConvBatchNorm: 2-3          [1, 128, 56, 56]          --\n",
      "│    │    └─Sequential: 3-3              [1, 128, 56, 56]          221,696\n",
      "├─MaxPool2d: 1-6                         [1, 128, 28, 28]          --\n",
      "├─ModuleList: 1-9                        --                        (recursive)\n",
      "│    └─DoubleConvBatchNorm: 2-4          [1, 256, 28, 28]          --\n",
      "│    │    └─Sequential: 3-4              [1, 256, 28, 28]          885,760\n",
      "├─MaxPool2d: 1-8                         [1, 256, 14, 14]          --\n",
      "├─ModuleList: 1-9                        --                        (recursive)\n",
      "│    └─DoubleConvBatchNorm: 2-5          [1, 512, 14, 14]          --\n",
      "│    │    └─Sequential: 3-5              [1, 512, 14, 14]          3,540,992\n",
      "├─MaxPool2d: 1-10                        [1, 512, 7, 7]            --\n",
      "├─DoubleConvBatchNorm: 1-11              [1, 1024, 7, 7]           --\n",
      "│    └─Sequential: 2-6                   [1, 1024, 7, 7]           --\n",
      "│    │    └─Conv2d: 3-6                  [1, 1024, 7, 7]           4,718,592\n",
      "│    │    └─BatchNorm2d: 3-7             [1, 1024, 7, 7]           2,048\n",
      "│    │    └─ReLU: 3-8                    [1, 1024, 7, 7]           --\n",
      "│    │    └─Conv2d: 3-9                  [1, 1024, 7, 7]           9,437,184\n",
      "│    │    └─BatchNorm2d: 3-10            [1, 1024, 7, 7]           2,048\n",
      "│    │    └─ReLU: 3-11                   [1, 1024, 7, 7]           --\n",
      "├─ModuleList: 1-12                       --                        --\n",
      "│    └─ConvTranspose2d: 2-7              [1, 512, 14, 14]          2,097,664\n",
      "│    └─DoubleConvBatchNorm: 2-8          [1, 512, 14, 14]          --\n",
      "│    │    └─Sequential: 3-12             [1, 512, 14, 14]          7,079,936\n",
      "│    └─ConvTranspose2d: 2-9              [1, 256, 28, 28]          524,544\n",
      "│    └─DoubleConvBatchNorm: 2-10         [1, 256, 28, 28]          --\n",
      "│    │    └─Sequential: 3-13             [1, 256, 28, 28]          1,770,496\n",
      "│    └─ConvTranspose2d: 2-11             [1, 128, 56, 56]          131,200\n",
      "│    └─DoubleConvBatchNorm: 2-12         [1, 128, 56, 56]          --\n",
      "│    │    └─Sequential: 3-14             [1, 128, 56, 56]          442,880\n",
      "│    └─ConvTranspose2d: 2-13             [1, 64, 112, 112]         32,832\n",
      "│    └─DoubleConvBatchNorm: 2-14         [1, 64, 112, 112]         --\n",
      "│    │    └─Sequential: 3-15             [1, 64, 112, 112]         110,848\n",
      "│    └─ConvTranspose2d: 2-15             [1, 32, 224, 224]         8,224\n",
      "│    └─DoubleConvBatchNorm: 2-16         [1, 32, 224, 224]         --\n",
      "│    │    └─Sequential: 3-16             [1, 32, 224, 224]         27,776\n",
      "├─Conv2d: 1-13                           [1, 1, 224, 224]          33\n",
      "==========================================================================================\n",
      "Total params: 31,100,801\n",
      "Trainable params: 31,100,801\n",
      "Non-trainable params: 0\n",
      "Total mult-adds (G): 12.98\n",
      "==========================================================================================\n",
      "Input size (MB): 0.80\n",
      "Forward/backward pass size (MB): 225.99\n",
      "Params size (MB): 124.40\n",
      "Estimated Total Size (MB): 351.20\n",
      "==========================================================================================\n"
     ]
    }
   ],
   "source": [
    "device = torch.device('cuda' if torch.cuda.is_available() else 'cpu')\n",
    "model = UNet(in_channels=4).eval().to(device)\n",
    "# load model weights\n",
    "path_model = 'model.pt'\n",
    "model.load_state_dict(torch.load(path_model, map_location=device))\n",
    "model_summary = summary(model, input_size=(1, 4, 224, 224))\n",
    "print(model_summary)  # todo shorter summary\n",
    "criterion = BCEWithLogitsLoss()"
   ]
  },
  {
   "cell_type": "code",
   "execution_count": 10,
   "metadata": {},
   "outputs": [
    {
     "data": {
      "application/vnd.jupyter.widget-view+json": {
       "model_id": "efa9b80987484b4f913bce0e988a4301",
       "version_major": 2,
       "version_minor": 0
      },
      "text/plain": [
       "  0%|          | 0/3 [00:00<?, ?it/s]"
      ]
     },
     "metadata": {},
     "output_type": "display_data"
    },
    {
     "data": {
      "text/plain": [
       "{'loss': 0.4350527822971344,\n",
       " 'labels': array([[[[1., 1., 1., ..., 1., 1., 1.],\n",
       "          [1., 1., 1., ..., 1., 1., 1.],\n",
       "          [1., 1., 1., ..., 1., 1., 1.],\n",
       "          ...,\n",
       "          [1., 1., 1., ..., 1., 1., 1.],\n",
       "          [1., 1., 1., ..., 1., 1., 1.],\n",
       "          [1., 1., 1., ..., 1., 1., 1.]]],\n",
       " \n",
       " \n",
       "        [[[1., 1., 1., ..., 1., 1., 1.],\n",
       "          [1., 1., 1., ..., 1., 1., 1.],\n",
       "          [1., 1., 1., ..., 1., 1., 1.],\n",
       "          ...,\n",
       "          [1., 1., 1., ..., 1., 1., 1.],\n",
       "          [1., 1., 1., ..., 1., 1., 1.],\n",
       "          [1., 1., 1., ..., 1., 1., 1.]]],\n",
       " \n",
       " \n",
       "        [[[1., 1., 1., ..., 1., 1., 1.],\n",
       "          [1., 1., 1., ..., 1., 1., 1.],\n",
       "          [1., 1., 1., ..., 1., 1., 1.],\n",
       "          ...,\n",
       "          [1., 1., 1., ..., 1., 1., 1.],\n",
       "          [1., 1., 1., ..., 1., 1., 1.],\n",
       "          [1., 1., 1., ..., 1., 1., 1.]]]], dtype=float32),\n",
       " 'preds': array([[[[0.55247295, 0.5553526 , 0.5614177 , ..., 0.5702827 ,\n",
       "           0.57017   , 0.5630103 ],\n",
       "          [0.5583326 , 0.58311385, 0.5826051 , ..., 0.6095664 ,\n",
       "           0.5993325 , 0.58662224],\n",
       "          [0.56812114, 0.5761365 , 0.5959529 , ..., 0.60953015,\n",
       "           0.6070274 , 0.5775308 ],\n",
       "          ...,\n",
       "          [0.5563715 , 0.58832264, 0.59181327, ..., 0.610385  ,\n",
       "           0.59558225, 0.5871655 ],\n",
       "          [0.5649572 , 0.5805471 , 0.59324735, ..., 0.6004163 ,\n",
       "           0.58512616, 0.5717511 ],\n",
       "          [0.55508506, 0.5769502 , 0.57461345, ..., 0.58831036,\n",
       "           0.57355225, 0.56930393]]],\n",
       " \n",
       " \n",
       "        [[[0.5530421 , 0.5610592 , 0.5684189 , ..., 0.5641831 ,\n",
       "           0.56802785, 0.5552132 ],\n",
       "          [0.56148845, 0.59422827, 0.5973919 , ..., 0.59788114,\n",
       "           0.58721095, 0.5661789 ],\n",
       "          [0.5681208 , 0.5922495 , 0.60458654, ..., 0.6060643 ,\n",
       "           0.6022609 , 0.5524344 ],\n",
       "          ...,\n",
       "          [0.5557264 , 0.58746195, 0.58380884, ..., 0.61581725,\n",
       "           0.6123345 , 0.5867111 ],\n",
       "          [0.5646065 , 0.579763  , 0.5912706 , ..., 0.61343855,\n",
       "           0.6037199 , 0.57712066],\n",
       "          [0.55508053, 0.57651657, 0.5742478 , ..., 0.593238  ,\n",
       "           0.58431506, 0.5691899 ]]],\n",
       " \n",
       " \n",
       "        [[[0.5422    , 0.5452632 , 0.5590589 , ..., 0.5710416 ,\n",
       "           0.5705129 , 0.56384987],\n",
       "          [0.5559376 , 0.5706071 , 0.5808841 , ..., 0.61080605,\n",
       "           0.6014389 , 0.5865082 ],\n",
       "          [0.55986166, 0.58211464, 0.59787047, ..., 0.6129842 ,\n",
       "           0.6074565 , 0.57912904],\n",
       "          ...,\n",
       "          [0.5655598 , 0.58850497, 0.6003489 , ..., 0.6092085 ,\n",
       "           0.61177284, 0.5827671 ],\n",
       "          [0.56503636, 0.5952469 , 0.6003207 , ..., 0.612013  ,\n",
       "           0.6047827 , 0.57382226],\n",
       "          [0.56161904, 0.5785728 , 0.5843749 , ..., 0.59062886,\n",
       "           0.58485   , 0.56698954]]]], dtype=float32)}"
      ]
     },
     "execution_count": 10,
     "metadata": {},
     "output_type": "execute_result"
    }
   ],
   "source": [
    "results_val = evaluate(model, loader['test'], criterion, device)\n",
    "results_val"
   ]
  },
  {
   "cell_type": "code",
   "execution_count": 12,
   "metadata": {},
   "outputs": [
    {
     "data": {
      "text/plain": [
       "{'Accuracy': 1.0, 'Precision': 1.0, 'Recall': 1.0, 'F1': 1.0, 'IoU': 1.0}"
      ]
     },
     "execution_count": 12,
     "metadata": {},
     "output_type": "execute_result"
    }
   ],
   "source": [
    "metrics = compute_metrics(results_val['labels'], results_val['preds'])\n",
    "metrics"
   ]
  },
  {
   "cell_type": "code",
   "execution_count": 15,
   "metadata": {},
   "outputs": [
    {
     "data": {
      "text/plain": [
       "(1.0, 0.60691595)"
      ]
     },
     "execution_count": 15,
     "metadata": {},
     "output_type": "execute_result"
    }
   ],
   "source": [
    "results_val['labels'].mean(), results_val['preds'].mean()"
   ]
  },
  {
   "cell_type": "code",
   "execution_count": 26,
   "metadata": {},
   "outputs": [
    {
     "data": {
      "text/plain": [
       "(124403204, 31100801)"
      ]
     },
     "execution_count": 26,
     "metadata": {},
     "output_type": "execute_result"
    }
   ],
   "source": [
    "model_summary.total_param_bytes, model_summary.total_params\n",
    "# model_summary.__dict__"
   ]
  }
 ],
 "metadata": {
  "kernelspec": {
   "display_name": "kaggle-DjzpaDb6",
   "language": "python",
   "name": "python3"
  },
  "language_info": {
   "codemirror_mode": {
    "name": "ipython",
    "version": 3
   },
   "file_extension": ".py",
   "mimetype": "text/x-python",
   "name": "python",
   "nbconvert_exporter": "python",
   "pygments_lexer": "ipython3",
   "version": "3.10.12"
  }
 },
 "nbformat": 4,
 "nbformat_minor": 2
}
