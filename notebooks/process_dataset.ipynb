{
 "cells": [
  {
   "cell_type": "code",
   "execution_count": 1,
   "metadata": {},
   "outputs": [
    {
     "name": "stdout",
     "output_type": "stream",
     "text": [
      "/home/petrmiculek/Code/kaggle/sentinel_clouds/notebooks\n",
      "/usr/lib/python310.zip\n",
      "/usr/lib/python3.10\n",
      "/usr/lib/python3.10/lib-dynload\n",
      "\n",
      "/home/petrmiculek/.local/share/virtualenvs/kaggle-DjzpaDb6/lib/python3.10/site-packages\n",
      "/home/petrmiculek/Code/kaggle/sentinel_clouds\n"
     ]
    }
   ],
   "source": [
    "%load_ext autoreload\n",
    "%autoreload 2\n",
    "import sys\n",
    "# remove last element from path\n",
    "import os\n",
    "from os.path import abspath, join, exists\n",
    "import numpy as np\n",
    "sys.path.pop()  # preexisting imports path messing up imports\n",
    "sys.path.append(abspath(join('..')))  # ,'src'\n",
    "print(\"\\n\".join(sys.path))\n",
    "from src.data.dataset import CloudRawDataset, CloudProcessedDataset"
   ]
  },
  {
   "cell_type": "code",
   "execution_count": 2,
   "metadata": {},
   "outputs": [],
   "source": [
    "path_data = '/mnt/sdb1/code/sentinel2/interim'\n",
    "path_processed = '/mnt/sdb1/code/sentinel2/processed'\n",
    "dataset_kwargs = {'tile_size': 224, 'crop_pad_mask': 'crop'}\n",
    "path_filelist_train = join(path_data, 'filelists', 'train.csv')\n",
    "path_filelist_val = join(path_data, 'filelists', 'val.csv')\n",
    "path_filelist_test = join(path_data, 'filelists', 'test.csv')"
   ]
  },
  {
   "cell_type": "code",
   "execution_count": 3,
   "metadata": {},
   "outputs": [
    {
     "data": {
      "application/vnd.jupyter.widget-view+json": {
       "model_id": "93fa3f1c406f4e3f9c1337a08c9c85d2",
       "version_major": 2,
       "version_minor": 0
      },
      "text/plain": [
       "Loading: /mnt/sdb1/code/sentinel2/interim/filelists/val.csv:   0%|          | 0/51 [00:00<?, ?it/s]"
      ]
     },
     "metadata": {},
     "output_type": "display_data"
    },
    {
     "data": {
      "application/vnd.jupyter.widget-view+json": {
       "model_id": "0c5479d36938451e9968b9eab69f9ba0",
       "version_major": 2,
       "version_minor": 0
      },
      "text/plain": [
       "Tiling data:   0%|          | 0/51 [00:00<?, ?it/s]"
      ]
     },
     "metadata": {},
     "output_type": "display_data"
    }
   ],
   "source": [
    "# Load, process, save - validation set\n",
    "dataset_val = CloudRawDataset(path_filelist_val, path_data, **dataset_kwargs)\n",
    "path_out_val = join(path_processed, 'val.npz')\n",
    "dataset_val.save_processed(path_out_val)"
   ]
  },
  {
   "cell_type": "code",
   "execution_count": 4,
   "metadata": {},
   "outputs": [],
   "source": [
    "# Load back dataset, check correctness\n",
    "path_out_val = join(path_processed, 'val.npz')\n",
    "dataset_val2 = CloudProcessedDataset(path_out_val)\n",
    "assert np.allclose(dataset_val[0]['image'], dataset_val2[0]['image'])\n",
    "assert np.allclose(dataset_val[0]['label'], dataset_val2[0]['label'])"
   ]
  },
  {
   "cell_type": "code",
   "execution_count": 5,
   "metadata": {},
   "outputs": [
    {
     "data": {
      "application/vnd.jupyter.widget-view+json": {
       "model_id": "fb2a41b8c07e44fbb5b61181d87c0afa",
       "version_major": 2,
       "version_minor": 0
      },
      "text/plain": [
       "Loading: /mnt/sdb1/code/sentinel2/interim/filelists/test.csv:   0%|          | 0/52 [00:00<?, ?it/s]"
      ]
     },
     "metadata": {},
     "output_type": "display_data"
    },
    {
     "data": {
      "application/vnd.jupyter.widget-view+json": {
       "model_id": "3db431493d324707be118d2b2a7eef8e",
       "version_major": 2,
       "version_minor": 0
      },
      "text/plain": [
       "Tiling data:   0%|          | 0/52 [00:00<?, ?it/s]"
      ]
     },
     "metadata": {},
     "output_type": "display_data"
    }
   ],
   "source": [
    "del dataset_val, dataset_val2\n",
    "# test set\n",
    "path_out_test = join(path_processed, 'test.npz')\n",
    "dataset_test = CloudRawDataset(path_filelist_test, path_data, **dataset_kwargs)\n",
    "dataset_test.save_processed(path_out_test)"
   ]
  },
  {
   "cell_type": "code",
   "execution_count": 3,
   "metadata": {},
   "outputs": [
    {
     "data": {
      "application/vnd.jupyter.widget-view+json": {
       "model_id": "9b58316314e44371ad828c0f53335cf5",
       "version_major": 2,
       "version_minor": 0
      },
      "text/plain": [
       "Loading: /mnt/sdb1/code/sentinel2/interim/filelists/train.csv:   0%|          | 0/410 [00:00<?, ?it/s]"
      ]
     },
     "metadata": {},
     "output_type": "display_data"
    },
    {
     "data": {
      "application/vnd.jupyter.widget-view+json": {
       "model_id": "23c9c01f177a407587cedc7bb414af03",
       "version_major": 2,
       "version_minor": 0
      },
      "text/plain": [
       "Tiling data:   0%|          | 0/410 [00:00<?, ?it/s]"
      ]
     },
     "metadata": {},
     "output_type": "display_data"
    }
   ],
   "source": [
    "del dataset_test\n",
    "# train set\n",
    "path_out_train = join(path_processed, 'train.npz')\n",
    "dataset_train = CloudRawDataset(path_filelist_train, path_data, **dataset_kwargs)\n",
    "dataset_train.save_processed(path_out_train)"
   ]
  },
  {
   "cell_type": "code",
   "execution_count": 6,
   "metadata": {},
   "outputs": [],
   "source": [
    "# del dataset_train\n",
    "dataset_train2 = CloudProcessedDataset(path_out_train)"
   ]
  }
 ],
 "metadata": {
  "kernelspec": {
   "display_name": "kaggle-DjzpaDb6",
   "language": "python",
   "name": "python3"
  },
  "language_info": {
   "codemirror_mode": {
    "name": "ipython",
    "version": 3
   },
   "file_extension": ".py",
   "mimetype": "text/x-python",
   "name": "python",
   "nbconvert_exporter": "python",
   "pygments_lexer": "ipython3",
   "version": "3.10.12"
  }
 },
 "nbformat": 4,
 "nbformat_minor": 2
}
