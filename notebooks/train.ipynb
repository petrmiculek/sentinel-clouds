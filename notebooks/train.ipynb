{
 "cells": [
  {
   "cell_type": "code",
   "execution_count": 9,
   "metadata": {},
   "outputs": [
    {
     "name": "stdout",
     "output_type": "stream",
     "text": [
      "The autoreload extension is already loaded. To reload it, use:\n",
      "  %reload_ext autoreload\n",
      "/home/petrmiculek/Code/kaggle/sentinel_clouds/notebooks\n",
      "/usr/lib/python310.zip\n",
      "/usr/lib/python3.10\n",
      "/usr/lib/python3.10/lib-dynload\n",
      "\n",
      "/home/petrmiculek/.local/share/virtualenvs/kaggle-DjzpaDb6/lib/python3.10/site-packages\n",
      "/home/petrmiculek/Code/kaggle/sentinel_clouds\n"
     ]
    }
   ],
   "source": [
    "%load_ext autoreload\n",
    "%autoreload 2\n",
    "import sys\n",
    "# remove last element from path\n",
    "import os\n",
    "from os.path import abspath, join, exists\n",
    "sys.path.pop()  # preexisting imports path messing up imports\n",
    "sys.path.append(abspath(join('..')))  # ,'src'\n",
    "print(\"\\n\".join(sys.path))"
   ]
  },
  {
   "cell_type": "code",
   "execution_count": 10,
   "metadata": {},
   "outputs": [],
   "source": [
    "# standard library\n",
    "from copy import deepcopy\n",
    "from types import SimpleNamespace\n",
    "# external\n",
    "import numpy as np\n",
    "import torch\n",
    "from torch.nn import MSELoss, BCELoss, BCEWithLogitsLoss\n",
    "from torch.optim import AdamW\n",
    "from torch.optim.lr_scheduler import ReduceLROnPlateau\n",
    "from torch.nn.functional import sigmoid\n",
    "from torch.cuda.amp import GradScaler\n",
    "from torch import autocast\n",
    "from tqdm.notebook import tqdm\n",
    "from torchinfo import summary\n",
    "# local\n",
    "from src.data.dataset import CloudDataset, get_loaders\n",
    "from src.models.unet import UNet\n",
    "from src.models.util import EarlyStopping"
   ]
  },
  {
   "cell_type": "code",
   "execution_count": 11,
   "metadata": {},
   "outputs": [],
   "source": [
    "# Hyperparameters\n",
    "HP = SimpleNamespace()\n",
    "''' Preprocessing '''\n",
    "# -\n",
    "''' Data '''\n",
    "HP.workers = 0\n",
    "HP.batch_size = 1\n",
    "''' Model '''\n",
    "# -\n",
    "''' Training '''\n",
    "HP.epochs = 5\n",
    "# HP.warmup_prop = 0.1\n",
    "HP.lr = 1e-3"
   ]
  },
  {
   "cell_type": "code",
   "execution_count": 12,
   "metadata": {},
   "outputs": [],
   "source": [
    "path_data = '/mnt/sdb1/code/sentinel2/sample'\n",
    "dataset_kwargs = {'tile_size': 224, 'crop_pad_mask': 'crop'}\n",
    "loader_kwargs = {'batch_size': HP.batch_size, 'num_workers': HP.workers, 'pin_memory': True}\n",
    "loader = get_loaders(path_data, **dataset_kwargs, **loader_kwargs)"
   ]
  },
  {
   "cell_type": "code",
   "execution_count": 13,
   "metadata": {},
   "outputs": [
    {
     "data": {
      "text/plain": [
       "device(type='cuda')"
      ]
     },
     "execution_count": 13,
     "metadata": {},
     "output_type": "execute_result"
    }
   ],
   "source": [
    "device = torch.device('cuda' if torch.cuda.is_available() else 'cpu')\n",
    "model = UNet(in_channels=4).to(device)\n",
    "summary(model, input_size=(1, 4, 224, 224))\n",
    "criterion = BCEWithLogitsLoss()\n",
    "optimizer = AdamW(model.parameters(), lr=HP.lr, weight_decay=1e-2)\n",
    "scaler = GradScaler()  # mixed precision training (16-bit)\n",
    "early_stopping = EarlyStopping(patience=5)\n",
    "scheduler = ReduceLROnPlateau(optimizer, patience=3)\n",
    "device"
   ]
  },
  {
   "cell_type": "code",
   "execution_count": 14,
   "metadata": {},
   "outputs": [],
   "source": [
    "def evaluate(model, loader):\n",
    "    model.eval()\n",
    "    loss = 0\n",
    "    labels, preds = [], []\n",
    "    with torch.no_grad():\n",
    "        for s in tqdm(loader):\n",
    "            x, y = s['image'].to(device), s['label'].to(device)\n",
    "            pred = model.predict(x)\n",
    "            loss += criterion(pred, y).item()\n",
    "            labels.append(y.cpu().numpy())\n",
    "            preds.append(pred.cpu().numpy())\n",
    "    return {\"loss\": loss / len(loader),\n",
    "            \"labels\": np.concatenate(labels),\n",
    "            \"preds\": np.concatenate(preds)}"
   ]
  },
  {
   "cell_type": "code",
   "execution_count": 15,
   "metadata": {},
   "outputs": [],
   "source": [
    "from sklearn.metrics import f1_score, accuracy_score, precision_score, recall_score, jaccard_score\n",
    "def compute_metrics(labels, preds):\n",
    "    labels, preds = labels.flatten(), preds.flatten()\n",
    "    preds = preds > 0.5\n",
    "    return {'Accuracy': accuracy_score(labels, preds),\n",
    "            'Precision': precision_score(labels, preds),\n",
    "            'Recall': recall_score(labels, preds),\n",
    "            'F1': f1_score(labels, preds),\n",
    "            'IoU': jaccard_score(labels, preds)}"
   ]
  },
  {
   "cell_type": "code",
   "execution_count": 20,
   "metadata": {},
   "outputs": [
    {
     "data": {
      "application/vnd.jupyter.widget-view+json": {
       "model_id": "aa49b8407a2c47fbbc7b67a091a58384",
       "version_major": 2,
       "version_minor": 0
      },
      "text/plain": [
       "ep0 train:   0%|          | 0/4 [00:00<?, ?it/s]"
      ]
     },
     "metadata": {},
     "output_type": "display_data"
    },
    {
     "data": {
      "application/vnd.jupyter.widget-view+json": {
       "model_id": "d6772293536340f9857950ac876b7931",
       "version_major": 2,
       "version_minor": 0
      },
      "text/plain": [
       "  0%|          | 0/1 [00:00<?, ?it/s]"
      ]
     },
     "metadata": {},
     "output_type": "display_data"
    },
    {
     "data": {
      "application/vnd.jupyter.widget-view+json": {
       "model_id": "327a57e1880e48a1bced9f394fdca0b6",
       "version_major": 2,
       "version_minor": 0
      },
      "text/plain": [
       "ep1 train:   0%|          | 0/4 [00:00<?, ?it/s]"
      ]
     },
     "metadata": {},
     "output_type": "display_data"
    },
    {
     "data": {
      "application/vnd.jupyter.widget-view+json": {
       "model_id": "4b8f86cf280842dda82855b0cb484387",
       "version_major": 2,
       "version_minor": 0
      },
      "text/plain": [
       "  0%|          | 0/1 [00:00<?, ?it/s]"
      ]
     },
     "metadata": {},
     "output_type": "display_data"
    },
    {
     "name": "stdout",
     "output_type": "stream",
     "text": [
      "EarlyStopping counter: 1 out of 5\n"
     ]
    },
    {
     "data": {
      "application/vnd.jupyter.widget-view+json": {
       "model_id": "219480dfdc83418da6dac1de722b0653",
       "version_major": 2,
       "version_minor": 0
      },
      "text/plain": [
       "ep2 train:   0%|          | 0/4 [00:00<?, ?it/s]"
      ]
     },
     "metadata": {},
     "output_type": "display_data"
    },
    {
     "data": {
      "application/vnd.jupyter.widget-view+json": {
       "model_id": "9bb3f050553f49c18695a77b03797301",
       "version_major": 2,
       "version_minor": 0
      },
      "text/plain": [
       "  0%|          | 0/1 [00:00<?, ?it/s]"
      ]
     },
     "metadata": {},
     "output_type": "display_data"
    },
    {
     "name": "stdout",
     "output_type": "stream",
     "text": [
      "EarlyStopping counter: 2 out of 5\n"
     ]
    },
    {
     "data": {
      "application/vnd.jupyter.widget-view+json": {
       "model_id": "e79ad5bbde004a3d8d9b773169a9ed86",
       "version_major": 2,
       "version_minor": 0
      },
      "text/plain": [
       "ep3 train:   0%|          | 0/4 [00:00<?, ?it/s]"
      ]
     },
     "metadata": {},
     "output_type": "display_data"
    },
    {
     "data": {
      "application/vnd.jupyter.widget-view+json": {
       "model_id": "19ffd5880d1e4a0095577dc943b75465",
       "version_major": 2,
       "version_minor": 0
      },
      "text/plain": [
       "  0%|          | 0/1 [00:00<?, ?it/s]"
      ]
     },
     "metadata": {},
     "output_type": "display_data"
    },
    {
     "name": "stdout",
     "output_type": "stream",
     "text": [
      "EarlyStopping counter: 3 out of 5\n"
     ]
    },
    {
     "data": {
      "application/vnd.jupyter.widget-view+json": {
       "model_id": "7df0489d3743487591ac5a6dfe1c0f6c",
       "version_major": 2,
       "version_minor": 0
      },
      "text/plain": [
       "ep4 train:   0%|          | 0/4 [00:00<?, ?it/s]"
      ]
     },
     "metadata": {},
     "output_type": "display_data"
    },
    {
     "data": {
      "application/vnd.jupyter.widget-view+json": {
       "model_id": "8e2dc1ff55bd47918ac10810f435d40f",
       "version_major": 2,
       "version_minor": 0
      },
      "text/plain": [
       "  0%|          | 0/1 [00:00<?, ?it/s]"
      ]
     },
     "metadata": {},
     "output_type": "display_data"
    },
    {
     "name": "stdout",
     "output_type": "stream",
     "text": [
      "EarlyStopping counter: 4 out of 5\n"
     ]
    }
   ],
   "source": [
    "''' Training '''\n",
    "best_accu_val = 0\n",
    "best_res = None\n",
    "epochs_trained = 0\n",
    "stop_training = False\n",
    "grad_acc_steps = 1\n",
    "for epoch in range(epochs_trained, epochs_trained + HP.epochs):\n",
    "    model.train()\n",
    "    ep_train_loss = 0\n",
    "    preds_train = []\n",
    "    labels_train = []\n",
    "    try:\n",
    "        progress_bar = tqdm(loader['train'], mininterval=1., desc=f'ep{epoch} train')\n",
    "        for i, sample in enumerate(progress_bar, start=1):\n",
    "            img, label = sample['image'].to(device, non_blocking=True), sample['label'].to(device, non_blocking=True)\n",
    "            # forward pass\n",
    "            with autocast(device_type='cuda', dtype=torch.float16):\n",
    "                logits = model(img)  # prediction\n",
    "                loss = criterion(logits, label)\n",
    "            # backward pass\n",
    "            scaler.scale(loss).backward()\n",
    "            if i % grad_acc_steps == 0:  # gradient step with accumulated gradients\n",
    "                scaler.step(optimizer)\n",
    "                scaler.update()\n",
    "                optimizer.zero_grad(set_to_none=True)\n",
    "            with torch.no_grad():  # save predictions\n",
    "                ep_train_loss += loss.cpu().numpy()\n",
    "                pred = sigmoid(logits)\n",
    "                labels_train.append(label.cpu().numpy())\n",
    "                preds_train.append(pred.cpu().numpy())\n",
    "\n",
    "            progress_bar.set_postfix(loss=f'{loss:.4f}', refresh=False)\n",
    "        # end of training epoch loop\n",
    "    except KeyboardInterrupt:\n",
    "        print(f'Ctrl+C stopped training')\n",
    "        stop_training = True\n",
    "\n",
    "    ep_train_loss /= len(loader['train'])\n",
    "    # compute training metrics\n",
    "    preds_train, labels_train = np.concatenate(preds_train), np.concatenate(labels_train)\n",
    "    metrics_train = compute_metrics(labels_train, preds_train)\n",
    "\n",
    "    ''' Validation loop '''\n",
    "    model.eval()\n",
    "    results_val = evaluate(model, loader['val'])\n",
    "    metrics_val = compute_metrics(results_val['labels'], results_val['preds'])\n",
    "    # log results\n",
    "    res_epoch = {'Loss Training': ep_train_loss, 'Loss Validation': results_val['loss'],\n",
    "                 'Accuracy Training': metrics_train['Accuracy'], 'Accuracy Validation': metrics_val['Accuracy']}\n",
    "    # print_dict(res_epoch)\n",
    "    if metrics_val['Accuracy'] >= best_accu_val:  # save best results\n",
    "        best_accu_val = metrics_val['Accuracy']\n",
    "        # save a deepcopy of res to best_res\n",
    "        best_res = deepcopy(res_epoch)\n",
    "    if False:\n",
    "        wb.log(res_epoch, step=epoch)\n",
    "    epochs_trained += 1\n",
    "    scheduler.step(results_val['loss'])  # LR scheduler\n",
    "    early_stopping(results_val['loss'], model)  # model checkpointing\n",
    "    if early_stopping.early_stop or stop_training:\n",
    "        print('Early stopping')\n",
    "        break"
   ]
  },
  {
   "cell_type": "code",
   "execution_count": null,
   "metadata": {},
   "outputs": [],
   "source": [
    "if False:\n",
    "    # save model as .pt\n",
    "    torch.save(model.state_dict(), 'model.pt')\n",
    "    # save model as onnx\n",
    "    dummy_input = torch.randn(1, 4, 224, 224, device='cuda')\n",
    "    torch.onnx.export(model, dummy_input, \"model.onnx\", verbose=True, opset_version=11, input_names=['input'], output_names=['output'])"
   ]
  }
 ],
 "metadata": {
  "kernelspec": {
   "display_name": "kaggle-DjzpaDb6",
   "language": "python",
   "name": "python3"
  },
  "language_info": {
   "codemirror_mode": {
    "name": "ipython",
    "version": 3
   },
   "file_extension": ".py",
   "mimetype": "text/x-python",
   "name": "python",
   "nbconvert_exporter": "python",
   "pygments_lexer": "ipython3",
   "version": "3.10.12"
  }
 },
 "nbformat": 4,
 "nbformat_minor": 2
}
