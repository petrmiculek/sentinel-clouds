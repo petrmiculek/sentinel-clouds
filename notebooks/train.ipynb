{
 "cells": [
  {
   "cell_type": "code",
   "execution_count": 1,
   "metadata": {},
   "outputs": [
    {
     "name": "stdout",
     "output_type": "stream",
     "text": [
      "/home/petrmiculek/Code/kaggle/sentinel_clouds/notebooks\n",
      "/usr/lib/python310.zip\n",
      "/usr/lib/python3.10\n",
      "/usr/lib/python3.10/lib-dynload\n",
      "\n",
      "/home/petrmiculek/.local/share/virtualenvs/kaggle-DjzpaDb6/lib/python3.10/site-packages\n",
      "/home/petrmiculek/Code/kaggle/sentinel_clouds\n"
     ]
    }
   ],
   "source": [
    "%load_ext autoreload\n",
    "%autoreload 2\n",
    "import sys\n",
    "# remove last element from path\n",
    "import os\n",
    "from os.path import abspath, join, exists\n",
    "sys.path.pop()  # preexisting imports path messing up imports\n",
    "sys.path.append(abspath(join('..')))  # ,'src'\n",
    "print(\"\\n\".join(sys.path))"
   ]
  },
  {
   "cell_type": "code",
   "execution_count": 2,
   "metadata": {},
   "outputs": [],
   "source": [
    "# standard library\n",
    "from copy import deepcopy\n",
    "from types import SimpleNamespace\n",
    "# external\n",
    "import numpy as np\n",
    "import torch\n",
    "from torch.nn import MSELoss, BCELoss, BCEWithLogitsLoss\n",
    "from torch.optim import AdamW\n",
    "from torch.optim.lr_scheduler import ReduceLROnPlateau\n",
    "from torch.nn.functional import sigmoid\n",
    "from torch.cuda.amp import GradScaler\n",
    "from torch import autocast\n",
    "from tqdm.notebook import tqdm\n",
    "from torchinfo import summary\n",
    "# local\n",
    "from src.data.dataset import CloudDataset, get_loaders\n",
    "from src.models.unet import UNet\n",
    "from src.models.util import EarlyStopping"
   ]
  },
  {
   "cell_type": "code",
   "execution_count": 3,
   "metadata": {},
   "outputs": [],
   "source": [
    "# Hyperparameters\n",
    "HP = SimpleNamespace()\n",
    "''' Preprocessing '''\n",
    "# -\n",
    "''' Data '''\n",
    "HP.workers = 0\n",
    "HP.batch_size = 4\n",
    "''' Model '''\n",
    "# -\n",
    "''' Training '''\n",
    "HP.epochs = 5\n",
    "# HP.warmup_prop = 0.1\n",
    "HP.lr = 1e-3"
   ]
  },
  {
   "cell_type": "code",
   "execution_count": 4,
   "metadata": {},
   "outputs": [],
   "source": [
    "path_data = '/mnt/sdb1/code/sentinel2/interim'\n",
    "dataset_kwargs = {'tile_size': 224, 'crop_pad_mask': 'crop'}\n",
    "loader_kwargs = {'batch_size': HP.batch_size, 'num_workers': HP.workers, 'pin_memory': True}\n",
    "loader = get_loaders(path_data, **dataset_kwargs, **loader_kwargs)"
   ]
  },
  {
   "cell_type": "code",
   "execution_count": 5,
   "metadata": {},
   "outputs": [
    {
     "name": "stdout",
     "output_type": "stream",
     "text": [
      "==========================================================================================\n",
      "Layer (type:depth-idx)                   Output Shape              Param #\n",
      "==========================================================================================\n",
      "UNet                                     [1, 1, 224, 224]          --\n",
      "├─ModuleList: 1-9                        --                        (recursive)\n",
      "│    └─DoubleConvBatchNorm: 2-1          [1, 32, 224, 224]         --\n",
      "│    │    └─Sequential: 3-1              [1, 32, 224, 224]         10,496\n",
      "├─MaxPool2d: 1-2                         [1, 32, 112, 112]         --\n",
      "├─ModuleList: 1-9                        --                        (recursive)\n",
      "│    └─DoubleConvBatchNorm: 2-2          [1, 64, 112, 112]         --\n",
      "│    │    └─Sequential: 3-2              [1, 64, 112, 112]         55,552\n",
      "├─MaxPool2d: 1-4                         [1, 64, 56, 56]           --\n",
      "├─ModuleList: 1-9                        --                        (recursive)\n",
      "│    └─DoubleConvBatchNorm: 2-3          [1, 128, 56, 56]          --\n",
      "│    │    └─Sequential: 3-3              [1, 128, 56, 56]          221,696\n",
      "├─MaxPool2d: 1-6                         [1, 128, 28, 28]          --\n",
      "├─ModuleList: 1-9                        --                        (recursive)\n",
      "│    └─DoubleConvBatchNorm: 2-4          [1, 256, 28, 28]          --\n",
      "│    │    └─Sequential: 3-4              [1, 256, 28, 28]          885,760\n",
      "├─MaxPool2d: 1-8                         [1, 256, 14, 14]          --\n",
      "├─ModuleList: 1-9                        --                        (recursive)\n",
      "│    └─DoubleConvBatchNorm: 2-5          [1, 512, 14, 14]          --\n",
      "│    │    └─Sequential: 3-5              [1, 512, 14, 14]          3,540,992\n",
      "├─MaxPool2d: 1-10                        [1, 512, 7, 7]            --\n",
      "├─DoubleConvBatchNorm: 1-11              [1, 1024, 7, 7]           --\n",
      "│    └─Sequential: 2-6                   [1, 1024, 7, 7]           --\n",
      "│    │    └─Conv2d: 3-6                  [1, 1024, 7, 7]           4,718,592\n",
      "│    │    └─BatchNorm2d: 3-7             [1, 1024, 7, 7]           2,048\n",
      "│    │    └─ReLU: 3-8                    [1, 1024, 7, 7]           --\n",
      "│    │    └─Conv2d: 3-9                  [1, 1024, 7, 7]           9,437,184\n",
      "│    │    └─BatchNorm2d: 3-10            [1, 1024, 7, 7]           2,048\n",
      "│    │    └─ReLU: 3-11                   [1, 1024, 7, 7]           --\n",
      "├─ModuleList: 1-12                       --                        --\n",
      "│    └─ConvTranspose2d: 2-7              [1, 512, 14, 14]          2,097,664\n",
      "│    └─DoubleConvBatchNorm: 2-8          [1, 512, 14, 14]          --\n",
      "│    │    └─Sequential: 3-12             [1, 512, 14, 14]          7,079,936\n",
      "│    └─ConvTranspose2d: 2-9              [1, 256, 28, 28]          524,544\n",
      "│    └─DoubleConvBatchNorm: 2-10         [1, 256, 28, 28]          --\n",
      "│    │    └─Sequential: 3-13             [1, 256, 28, 28]          1,770,496\n",
      "│    └─ConvTranspose2d: 2-11             [1, 128, 56, 56]          131,200\n",
      "│    └─DoubleConvBatchNorm: 2-12         [1, 128, 56, 56]          --\n",
      "│    │    └─Sequential: 3-14             [1, 128, 56, 56]          442,880\n",
      "│    └─ConvTranspose2d: 2-13             [1, 64, 112, 112]         32,832\n",
      "│    └─DoubleConvBatchNorm: 2-14         [1, 64, 112, 112]         --\n",
      "│    │    └─Sequential: 3-15             [1, 64, 112, 112]         110,848\n",
      "│    └─ConvTranspose2d: 2-15             [1, 32, 224, 224]         8,224\n",
      "│    └─DoubleConvBatchNorm: 2-16         [1, 32, 224, 224]         --\n",
      "│    │    └─Sequential: 3-16             [1, 32, 224, 224]         27,776\n",
      "├─Conv2d: 1-13                           [1, 1, 224, 224]          33\n",
      "==========================================================================================\n",
      "Total params: 31,100,801\n",
      "Trainable params: 31,100,801\n",
      "Non-trainable params: 0\n",
      "Total mult-adds (G): 12.98\n",
      "==========================================================================================\n",
      "Input size (MB): 0.80\n",
      "Forward/backward pass size (MB): 225.99\n",
      "Params size (MB): 124.40\n",
      "Estimated Total Size (MB): 351.20\n",
      "==========================================================================================\n"
     ]
    },
    {
     "data": {
      "text/plain": [
       "device(type='cuda')"
      ]
     },
     "execution_count": 5,
     "metadata": {},
     "output_type": "execute_result"
    }
   ],
   "source": [
    "device = torch.device('cuda' if torch.cuda.is_available() else 'cpu')\n",
    "model = UNet(in_channels=4).to(device)\n",
    "print(summary(model, input_size=(1, 4, 224, 224)))\n",
    "criterion = BCEWithLogitsLoss()\n",
    "optimizer = AdamW(model.parameters(), lr=HP.lr, weight_decay=1e-2)\n",
    "scaler = GradScaler()  # mixed precision training (16-bit)\n",
    "early_stopping = EarlyStopping(patience=5)\n",
    "scheduler = ReduceLROnPlateau(optimizer, patience=3)\n",
    "device"
   ]
  },
  {
   "cell_type": "code",
   "execution_count": 6,
   "metadata": {},
   "outputs": [],
   "source": [
    "from src.models.util import evaluate, compute_metrics"
   ]
  },
  {
   "cell_type": "code",
   "execution_count": 7,
   "metadata": {},
   "outputs": [
    {
     "data": {
      "application/vnd.jupyter.widget-view+json": {
       "model_id": "4466c28de2b54ecea7703ef66c7fec64",
       "version_major": 2,
       "version_minor": 0
      },
      "text/plain": [
       "ep0 train:   0%|          | 0/103 [00:00<?, ?it/s]"
      ]
     },
     "metadata": {},
     "output_type": "display_data"
    },
    {
     "data": {
      "application/vnd.jupyter.widget-view+json": {
       "model_id": "5b0c1f84b57143a39e92dff7cbcbe232",
       "version_major": 2,
       "version_minor": 0
      },
      "text/plain": [
       "  0%|          | 0/13 [00:00<?, ?it/s]"
      ]
     },
     "metadata": {},
     "output_type": "display_data"
    },
    {
     "data": {
      "application/vnd.jupyter.widget-view+json": {
       "model_id": "d3d7c4beeb274a019c45235ce3ddda0a",
       "version_major": 2,
       "version_minor": 0
      },
      "text/plain": [
       "ep1 train:   0%|          | 0/103 [00:00<?, ?it/s]"
      ]
     },
     "metadata": {},
     "output_type": "display_data"
    },
    {
     "data": {
      "application/vnd.jupyter.widget-view+json": {
       "model_id": "fa30f0ab31f5445bb5a1b69544234ab0",
       "version_major": 2,
       "version_minor": 0
      },
      "text/plain": [
       "  0%|          | 0/13 [00:00<?, ?it/s]"
      ]
     },
     "metadata": {},
     "output_type": "display_data"
    },
    {
     "name": "stdout",
     "output_type": "stream",
     "text": [
      "EarlyStopping counter: 1 out of 5\n"
     ]
    },
    {
     "data": {
      "application/vnd.jupyter.widget-view+json": {
       "model_id": "68e14c7fba3f45cc86004b6cb164ed1f",
       "version_major": 2,
       "version_minor": 0
      },
      "text/plain": [
       "ep2 train:   0%|          | 0/103 [00:00<?, ?it/s]"
      ]
     },
     "metadata": {},
     "output_type": "display_data"
    },
    {
     "data": {
      "application/vnd.jupyter.widget-view+json": {
       "model_id": "333fdced56704230a31d324142067dc2",
       "version_major": 2,
       "version_minor": 0
      },
      "text/plain": [
       "  0%|          | 0/13 [00:00<?, ?it/s]"
      ]
     },
     "metadata": {},
     "output_type": "display_data"
    },
    {
     "name": "stdout",
     "output_type": "stream",
     "text": [
      "EarlyStopping counter: 2 out of 5\n"
     ]
    },
    {
     "data": {
      "application/vnd.jupyter.widget-view+json": {
       "model_id": "478fcfc054d74da189254bc4e193b15a",
       "version_major": 2,
       "version_minor": 0
      },
      "text/plain": [
       "ep3 train:   0%|          | 0/103 [00:00<?, ?it/s]"
      ]
     },
     "metadata": {},
     "output_type": "display_data"
    },
    {
     "data": {
      "application/vnd.jupyter.widget-view+json": {
       "model_id": "4ef266757eb44855961d9e3cda4893a9",
       "version_major": 2,
       "version_minor": 0
      },
      "text/plain": [
       "  0%|          | 0/13 [00:00<?, ?it/s]"
      ]
     },
     "metadata": {},
     "output_type": "display_data"
    },
    {
     "name": "stdout",
     "output_type": "stream",
     "text": [
      "EarlyStopping counter: 3 out of 5\n"
     ]
    },
    {
     "data": {
      "application/vnd.jupyter.widget-view+json": {
       "model_id": "b9f0e714ecd84154862f54a3c1ec7f65",
       "version_major": 2,
       "version_minor": 0
      },
      "text/plain": [
       "ep4 train:   0%|          | 0/103 [00:00<?, ?it/s]"
      ]
     },
     "metadata": {},
     "output_type": "display_data"
    },
    {
     "data": {
      "application/vnd.jupyter.widget-view+json": {
       "model_id": "4b881c578d5f42a292473ff42c1b7ace",
       "version_major": 2,
       "version_minor": 0
      },
      "text/plain": [
       "  0%|          | 0/13 [00:00<?, ?it/s]"
      ]
     },
     "metadata": {},
     "output_type": "display_data"
    },
    {
     "name": "stdout",
     "output_type": "stream",
     "text": [
      "EarlyStopping counter: 4 out of 5\n"
     ]
    }
   ],
   "source": [
    "''' Training '''\n",
    "best_accu_val = 0\n",
    "best_res = None\n",
    "epochs_trained = 0\n",
    "stop_training = False\n",
    "grad_acc_steps = 1\n",
    "for epoch in range(epochs_trained, epochs_trained + HP.epochs):\n",
    "    model.train()\n",
    "    ep_train_loss = 0\n",
    "    preds_train = []\n",
    "    labels_train = []\n",
    "    try:\n",
    "        progress_bar = tqdm(loader['train'], mininterval=1., desc=f'ep{epoch} train')\n",
    "        for i, sample in enumerate(progress_bar, start=1):\n",
    "            img, label = sample['image'].to(device, non_blocking=True), sample['label'].to(device, non_blocking=True)\n",
    "            # forward pass\n",
    "            with autocast(device_type='cuda', dtype=torch.float16):\n",
    "                logits = model(img)  # prediction\n",
    "                loss = criterion(logits, label)\n",
    "            # backward pass\n",
    "            scaler.scale(loss).backward()\n",
    "            if i % grad_acc_steps == 0:  # gradient step with accumulated gradients\n",
    "                scaler.step(optimizer)\n",
    "                scaler.update()\n",
    "                optimizer.zero_grad(set_to_none=True)\n",
    "            with torch.no_grad():  # save predictions\n",
    "                ep_train_loss += loss.cpu().numpy()\n",
    "                pred = sigmoid(logits)\n",
    "                labels_train.append(label.cpu().numpy())\n",
    "                preds_train.append(pred.cpu().numpy())\n",
    "\n",
    "            progress_bar.set_postfix(loss=f'{loss:.4f}', refresh=False)\n",
    "        # end of training epoch loop\n",
    "    except KeyboardInterrupt:\n",
    "        print(f'Ctrl+C stopped training')\n",
    "        stop_training = True\n",
    "\n",
    "    ep_train_loss /= len(loader['train'])\n",
    "    # compute training metrics\n",
    "    preds_train, labels_train = np.concatenate(preds_train), np.concatenate(labels_train)\n",
    "    metrics_train = compute_metrics(labels_train, preds_train)\n",
    "\n",
    "    ''' Validation loop '''\n",
    "    model.eval()\n",
    "    results_val = evaluate(model, loader['val'])\n",
    "    metrics_val = compute_metrics(results_val['labels'], results_val['preds'])\n",
    "    # log results\n",
    "    res_epoch = {'Loss Training': ep_train_loss, 'Loss Validation': results_val['loss'],\n",
    "                 'Accuracy Training': metrics_train['Accuracy'], 'Accuracy Validation': metrics_val['Accuracy']}\n",
    "    # print_dict(res_epoch)\n",
    "    if metrics_val['Accuracy'] >= best_accu_val:  # save best results\n",
    "        best_accu_val = metrics_val['Accuracy']\n",
    "        # save a deepcopy of res to best_res\n",
    "        best_res = deepcopy(res_epoch)\n",
    "    if False:\n",
    "        wb.log(res_epoch, step=epoch)\n",
    "    epochs_trained += 1\n",
    "    scheduler.step(results_val['loss'])  # LR scheduler\n",
    "    early_stopping(results_val['loss'], model)  # model checkpointing\n",
    "    if early_stopping.early_stop or stop_training:\n",
    "        print('Early stopping')\n",
    "        break"
   ]
  },
  {
   "cell_type": "code",
   "execution_count": 9,
   "metadata": {},
   "outputs": [
    {
     "data": {
      "application/vnd.jupyter.widget-view+json": {
       "model_id": "3f51571c31d14e56aac70d7aadd64d6f",
       "version_major": 2,
       "version_minor": 0
      },
      "text/plain": [
       "  0%|          | 0/13 [00:00<?, ?it/s]"
      ]
     },
     "metadata": {},
     "output_type": "display_data"
    },
    {
     "data": {
      "text/plain": [
       "{'Accuracy': 0.367859643857543,\n",
       " 'Precision': 0.539879607212052,\n",
       " 'Recall': 0.5339328614322507,\n",
       " 'F1': 0.5368897678597092,\n",
       " 'IoU': 0.3669510034622117}"
      ]
     },
     "execution_count": 9,
     "metadata": {},
     "output_type": "execute_result"
    }
   ],
   "source": [
    "results_val = evaluate(model, loader['val'], criterion, device)\n",
    "# results_val\n",
    "metrics_val = compute_metrics(results_val['labels'], results_val['preds'])\n",
    "metrics_val"
   ]
  },
  {
   "cell_type": "code",
   "execution_count": 8,
   "metadata": {},
   "outputs": [],
   "source": [
    "if False:\n",
    "    # save model as .pt\n",
    "    torch.save(model.state_dict(), 'model.pt')\n",
    "    # save model as onnx\n",
    "    dummy_input = torch.randn(1, 4, 224, 224, device='cuda')\n",
    "    torch.onnx.export(model, dummy_input, \"model.onnx\", verbose=True, opset_version=11, input_names=['input'], output_names=['output'])"
   ]
  }
 ],
 "metadata": {
  "kernelspec": {
   "display_name": "kaggle-DjzpaDb6",
   "language": "python",
   "name": "python3"
  },
  "language_info": {
   "codemirror_mode": {
    "name": "ipython",
    "version": 3
   },
   "file_extension": ".py",
   "mimetype": "text/x-python",
   "name": "python",
   "nbconvert_exporter": "python",
   "pygments_lexer": "ipython3",
   "version": "3.10.12"
  }
 },
 "nbformat": 4,
 "nbformat_minor": 2
}
