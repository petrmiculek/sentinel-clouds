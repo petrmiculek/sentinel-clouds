{
 "cells": [
  {
   "cell_type": "code",
   "execution_count": 1,
   "metadata": {},
   "outputs": [
    {
     "name": "stdout",
     "output_type": "stream",
     "text": [
      "/home/petrmiculek/Code/kaggle/sentinel_clouds/notebooks\n",
      "/usr/lib/python310.zip\n",
      "/usr/lib/python3.10\n",
      "/usr/lib/python3.10/lib-dynload\n",
      "\n",
      "/home/petrmiculek/.local/share/virtualenvs/kaggle-DjzpaDb6/lib/python3.10/site-packages\n",
      "/home/petrmiculek/Code/kaggle/sentinel_clouds\n"
     ]
    }
   ],
   "source": [
    "%load_ext autoreload\n",
    "%autoreload 2\n",
    "import sys\n",
    "# remove last element from path\n",
    "import os\n",
    "from os.path import abspath, join, exists\n",
    "sys.path.pop()  # preexisting imports path messing up imports\n",
    "sys.path.append(abspath(join('..')))  # ,'src'\n",
    "print(\"\\n\".join(sys.path))"
   ]
  },
  {
   "cell_type": "code",
   "execution_count": 2,
   "metadata": {},
   "outputs": [],
   "source": [
    "# standard library\n",
    "from copy import deepcopy\n",
    "from types import SimpleNamespace\n",
    "# external\n",
    "import numpy as np\n",
    "import torch\n",
    "from torch.nn import MSELoss, BCELoss, BCEWithLogitsLoss\n",
    "from torch.optim import AdamW\n",
    "from torch.optim.lr_scheduler import ReduceLROnPlateau\n",
    "from torch.nn.functional import sigmoid\n",
    "from torch.cuda.amp import GradScaler\n",
    "from torch import autocast\n",
    "from tqdm.notebook import tqdm\n",
    "from torchinfo import summary\n",
    "import wandb as wb\n",
    "# local\n",
    "from src.data.dataset import get_loaders, get_loaders_processed\n",
    "from src.models.unet import UNet\n",
    "from src.models.util import EarlyStopping, evaluate, compute_metrics"
   ]
  },
  {
   "cell_type": "code",
   "execution_count": 3,
   "metadata": {},
   "outputs": [
    {
     "name": "stderr",
     "output_type": "stream",
     "text": [
      "ERROR:wandb.jupyter:Failed to detect the name of this notebook, you can set it manually with the WANDB_NOTEBOOK_NAME environment variable to enable code saving.\n",
      "\u001b[34m\u001b[1mwandb\u001b[0m: Currently logged in as: \u001b[33mpetrmiculek\u001b[0m. Use \u001b[1m`wandb login --relogin`\u001b[0m to force relogin\n"
     ]
    },
    {
     "data": {
      "text/html": [
       "Tracking run with wandb version 0.16.0"
      ],
      "text/plain": [
       "<IPython.core.display.HTML object>"
      ]
     },
     "metadata": {},
     "output_type": "display_data"
    },
    {
     "data": {
      "text/html": [
       "Run data is saved locally in <code>/home/petrmiculek/Code/kaggle/sentinel_clouds/notebooks/wandb/run-20231113_202227-g4bbj8za</code>"
      ],
      "text/plain": [
       "<IPython.core.display.HTML object>"
      ]
     },
     "metadata": {},
     "output_type": "display_data"
    },
    {
     "data": {
      "text/html": [
       "Syncing run <strong><a href='https://wandb.ai/petrmiculek/clouds/runs/g4bbj8za' target=\"_blank\">trim-dragon-1</a></strong> to <a href='https://wandb.ai/petrmiculek/clouds' target=\"_blank\">Weights & Biases</a> (<a href='https://wandb.me/run' target=\"_blank\">docs</a>)<br/>"
      ],
      "text/plain": [
       "<IPython.core.display.HTML object>"
      ]
     },
     "metadata": {},
     "output_type": "display_data"
    },
    {
     "data": {
      "text/html": [
       " View project at <a href='https://wandb.ai/petrmiculek/clouds' target=\"_blank\">https://wandb.ai/petrmiculek/clouds</a>"
      ],
      "text/plain": [
       "<IPython.core.display.HTML object>"
      ]
     },
     "metadata": {},
     "output_type": "display_data"
    },
    {
     "data": {
      "text/html": [
       " View run at <a href='https://wandb.ai/petrmiculek/clouds/runs/g4bbj8za' target=\"_blank\">https://wandb.ai/petrmiculek/clouds/runs/g4bbj8za</a>"
      ],
      "text/plain": [
       "<IPython.core.display.HTML object>"
      ]
     },
     "metadata": {},
     "output_type": "display_data"
    }
   ],
   "source": [
    "# Hyperparameters\n",
    "HP = SimpleNamespace()\n",
    "''' Preprocessing '''\n",
    "HP.tile_size = 224\n",
    "HP.crop_pad_mask = 'crop'\n",
    "# -\n",
    "''' Data '''\n",
    "HP.workers = 0\n",
    "HP.batch_size = 4\n",
    "''' Model '''\n",
    "# -\n",
    "''' Training '''\n",
    "HP.epochs = 1\n",
    "# HP.warmup_prop = 0.1\n",
    "HP.lr = 1e-3\n",
    "wb.init(project=\"clouds\", config=HP)  # , mode='disabled' if args.no_log else None)\n",
    "run_name = wb.run.name\n",
    "outputs_dir = join('runs', run_name)\n",
    "os.makedirs(outputs_dir, exist_ok=True)\n",
    "checkpoint_path = join(outputs_dir, 'model_checkpoint.pt')"
   ]
  },
  {
   "cell_type": "code",
   "execution_count": 7,
   "metadata": {},
   "outputs": [
    {
     "name": "stdout",
     "output_type": "stream",
     "text": [
      "Ignoring dataset args: {'batch_size': 4, 'num_workers': 0, 'pin_memory': True}, loading dataset already processed.\n"
     ]
    },
    {
     "ename": "",
     "evalue": "",
     "output_type": "error",
     "traceback": [
      "\u001b[1;31mThe Kernel crashed while executing code in the the current cell or a previous cell. Please review the code in the cell(s) to identify a possible cause of the failure. Click <a href='https://aka.ms/vscodeJupyterKernelCrash'>here</a> for more info. View Jupyter <a href='command:jupyter.viewOutput'>log</a> for further details."
     ]
    }
   ],
   "source": [
    "path_data = '/mnt/sdb1/code/sentinel2/processed'\n",
    "dataset_kwargs = {'tile_size': HP.tile_size, 'crop_pad_mask': HP.crop_pad_mask}  # doesn't matter when using processed data\n",
    "loader_kwargs = {'batch_size': HP.batch_size, 'num_workers': HP.workers, 'pin_memory': True}\n",
    "loader = get_loaders_processed(path_data, splits=['train', 'val'], **dataset_kwargs, **loader_kwargs)"
   ]
  },
  {
   "cell_type": "code",
   "execution_count": null,
   "metadata": {},
   "outputs": [],
   "source": [
    "device = torch.device('cuda' if torch.cuda.is_available() else 'cpu')\n",
    "model = UNet(in_channels=4).to(device)\n",
    "model_summary = summary(model, input_size=(1, 4, 224, 224))\n",
    "print(model_summary)\n",
    "criterion = BCEWithLogitsLoss()\n",
    "optimizer = AdamW(model.parameters(), lr=HP.lr, weight_decay=1e-2)\n",
    "scaler = GradScaler()  # mixed precision training (16-bit)\n",
    "early_stopping = EarlyStopping(patience=5, path=checkpoint_path)\n",
    "scheduler = ReduceLROnPlateau(optimizer, patience=3)\n",
    "# wb.watch(model, log='all', log_freq=100)\n",
    "wb.config.update({'criterion': criterion.__class__.__name__,\n",
    "                   'optimizer': optimizer.__class__.__name__,\n",
    "                   'scheduler': scheduler.__class__.__name__,\n",
    "                    'architecture': model.__class__.__name__,\n",
    "                    'train_size': len(loader['train'].dataset),\n",
    "                #    'model_summary': str(model_summary)\n",
    "                   })"
   ]
  },
  {
   "cell_type": "code",
   "execution_count": null,
   "metadata": {},
   "outputs": [],
   "source": [
    "''' Training '''\n",
    "best_accu_val = 0\n",
    "best_res = None\n",
    "epochs_trained = 0\n",
    "stop_training = False\n",
    "grad_acc_steps = 1\n",
    "for epoch in range(epochs_trained, epochs_trained + HP.epochs):\n",
    "    model.train()\n",
    "    ep_train_loss = 0\n",
    "    preds_train = []\n",
    "    labels_train = []\n",
    "    try:\n",
    "        progress_bar = tqdm(loader['train'], mininterval=1., desc=f'ep{epoch} train')\n",
    "        for i, sample in enumerate(progress_bar, start=1):\n",
    "            img, label = sample['image'].to(device, non_blocking=True), sample['label'].to(device, non_blocking=True)\n",
    "            # forward pass\n",
    "            with autocast(device_type='cuda', dtype=torch.float16):\n",
    "                logits = model(img)  # prediction\n",
    "                loss = criterion(logits, label)\n",
    "            # backward pass\n",
    "            scaler.scale(loss).backward()\n",
    "            if i % grad_acc_steps == 0:  # gradient step with accumulated gradients\n",
    "                scaler.step(optimizer)\n",
    "                scaler.update()\n",
    "                optimizer.zero_grad(set_to_none=True)\n",
    "            with torch.no_grad():  # save predictions\n",
    "                ep_train_loss += loss.cpu().numpy()\n",
    "                pred = sigmoid(logits)\n",
    "                labels_train.append(label.cpu().numpy())\n",
    "                preds_train.append(pred.cpu().numpy())\n",
    "            progress_bar.set_postfix(loss=f'{loss:.4f}', refresh=False)\n",
    "        # end of training epoch loop\n",
    "    except KeyboardInterrupt:\n",
    "        print(f'Ctrl+C stopped training')\n",
    "        stop_training = True\n",
    "\n",
    "    ep_train_loss /= len(loader['train'])\n",
    "    # compute training metrics\n",
    "    preds_train, labels_train = np.concatenate(preds_train), np.concatenate(labels_train)\n",
    "    metrics_train = compute_metrics(labels_train, preds_train, suffix=' Training')\n",
    "\n",
    "    ''' Validation loop '''\n",
    "    model.eval()\n",
    "    results_val = evaluate(model, loader['val'])\n",
    "    metrics_val = compute_metrics(results_val['labels'], results_val['preds'], suffix=' Validation')\n",
    "    # log results\n",
    "    res_epoch = {'Loss Training': ep_train_loss, 'Loss Validation': results_val['loss'],\n",
    "                 'Accuracy Training': metrics_train['Accuracy Training'], 'Accuracy Validation': metrics_val['Accuracy Validation']}\n",
    "    wb.log(res_epoch, step=epoch)\n",
    "    # print_dict(res_epoch)\n",
    "    if metrics_val['Accuracy'] >= best_accu_val:  # save best results\n",
    "        best_accu_val = metrics_val['Accuracy']\n",
    "        # save a deepcopy of res to best_res\n",
    "        best_res = deepcopy(res_epoch)\n",
    "    epochs_trained += 1\n",
    "    scheduler.step(results_val['loss'])  # LR scheduler\n",
    "    early_stopping(results_val['loss'], model)  # model checkpointing\n",
    "    if early_stopping.early_stop or stop_training:\n",
    "        print('Early stopping')\n",
    "        break"
   ]
  },
  {
   "cell_type": "code",
   "execution_count": null,
   "metadata": {},
   "outputs": [],
   "source": [
    "results_val = evaluate(model, loader['val'], criterion, device)\n",
    "# results_val\n",
    "metrics_val = compute_metrics(results_val['labels'], results_val['preds'])\n",
    "metrics_val"
   ]
  },
  {
   "cell_type": "code",
   "execution_count": null,
   "metadata": {},
   "outputs": [],
   "source": [
    "if False:\n",
    "    # save model as .pt\n",
    "    torch.save(model.state_dict(), 'model.pt')\n",
    "    # save model as onnx\n",
    "    dummy_input = torch.randn(1, 4, 224, 224, device='cuda')\n",
    "    torch.onnx.export(model, dummy_input, \"model.onnx\", verbose=True, opset_version=11, input_names=['input'], output_names=['output'])"
   ]
  }
 ],
 "metadata": {
  "kernelspec": {
   "display_name": "kaggle-DjzpaDb6",
   "language": "python",
   "name": "python3"
  },
  "language_info": {
   "codemirror_mode": {
    "name": "ipython",
    "version": 3
   },
   "file_extension": ".py",
   "mimetype": "text/x-python",
   "name": "python",
   "nbconvert_exporter": "python",
   "pygments_lexer": "ipython3",
   "version": "3.10.12"
  }
 },
 "nbformat": 4,
 "nbformat_minor": 2
}
