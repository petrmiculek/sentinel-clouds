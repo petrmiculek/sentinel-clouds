{
 "cells": [
  {
   "cell_type": "code",
   "execution_count": 56,
   "metadata": {},
   "outputs": [],
   "source": [
    "# standard library\n",
    "import os, sys\n",
    "from os.path import join, exists\n",
    "from json import dump\n",
    "# external\n",
    "import numpy as np\n",
    "import torch\n",
    "import pandas as pd\n",
    "# local\n",
    "# -"
   ]
  },
  {
   "cell_type": "markdown",
   "metadata": {},
   "source": [
    "Splitting images into Train/Val/Test\n",
    "\n",
    "- multiple images might capture the same area"
   ]
  },
  {
   "cell_type": "code",
   "execution_count": 58,
   "metadata": {},
   "outputs": [],
   "source": [
    "seed = 42\n",
    "np.random.seed(seed)\n",
    "\n",
    "path_data = '/mnt/sdb1/code/sentinel2/interim'\n",
    "path_images = join(path_data, 'subscenes')\n",
    "path_masks = join(path_data, 'masks')\n",
    "path_filelists = join(path_data, 'filelists')\n",
    "\n",
    "split_train = 0.8\n",
    "split_val = 0.1"
   ]
  },
  {
   "cell_type": "code",
   "execution_count": 59,
   "metadata": {},
   "outputs": [
    {
     "name": "stdout",
     "output_type": "stream",
     "text": [
      "410 train, 51 val, 52 test\n"
     ]
    }
   ],
   "source": [
    "# split images into train, val, test\n",
    "images_filenames = os.listdir(path_images)\n",
    "images_filenames.sort()\n",
    "files = np.array([f for f in images_filenames if exists(join(path_masks, f))])\n",
    "indices = np.random.permutation(len(files))\n",
    "n_train = int(split_train * len(files))\n",
    "n_val = int(split_val * len(files))\n",
    "indices_train = indices[:n_train]\n",
    "indices_val = indices[n_train:n_train+n_val]\n",
    "indices_test = indices[n_train+n_val:]\n",
    "print(f'{len(indices_train)} train, {len(indices_val)} val, {len(indices_test)} test')\n",
    "files_train = files[indices_train]\n",
    "files_val = files[indices_val]\n",
    "files_test = files[indices_test]"
   ]
  },
  {
   "cell_type": "code",
   "execution_count": 61,
   "metadata": {},
   "outputs": [],
   "source": [
    "# save filelists as csv files\n",
    "path_train = join(path_filelists, 'train.csv')\n",
    "path_val = join(path_filelists, 'val.csv')\n",
    "path_test = join(path_filelists, 'test.csv')\n",
    "os.makedirs(path_filelists, exist_ok=False)  # fail if exists\n",
    "pd.DataFrame(files_train).to_csv(path_train, index=False, header=False)\n",
    "pd.DataFrame(files_val).to_csv(path_val, index=False, header=False)\n",
    "pd.DataFrame(files_test).to_csv(path_test, index=False, header=False)"
   ]
  },
  {
   "cell_type": "code",
   "execution_count": 63,
   "metadata": {},
   "outputs": [],
   "source": [
    "# save metadata\n",
    "path_metadata = join(path_filelists, 'metadata.json')\n",
    "metadata = {\n",
    "    'split_train': split_train,\n",
    "    'split_val': split_val,\n",
    "    'seed': seed,\n",
    "    'total': len(files),\n",
    "    'timestamp': pd.Timestamp.now().strftime('%Y-%m-%d %H:%M:%S'),\n",
    "}\n",
    "with open(path_metadata, 'w') as f:\n",
    "    dump(metadata, f, indent=4)"
   ]
  }
 ],
 "metadata": {
  "kernelspec": {
   "display_name": "kaggle-DjzpaDb6",
   "language": "python",
   "name": "python3"
  },
  "language_info": {
   "codemirror_mode": {
    "name": "ipython",
    "version": 3
   },
   "file_extension": ".py",
   "mimetype": "text/x-python",
   "name": "python",
   "nbconvert_exporter": "python",
   "pygments_lexer": "ipython3",
   "version": "3.10.12"
  }
 },
 "nbformat": 4,
 "nbformat_minor": 2
}
